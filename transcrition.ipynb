{
 "cells": [
  {
   "cell_type": "code",
   "execution_count": 1,
   "metadata": {},
   "outputs": [
    {
     "name": "stdout",
     "output_type": "stream",
     "text": [
      "20240930\n"
     ]
    }
   ],
   "source": [
    "import whisper\n",
    "\n",
    "print(whisper.__version__)"
   ]
  },
  {
   "cell_type": "code",
   "execution_count": 1,
   "metadata": {},
   "outputs": [
    {
     "data": {
      "text/plain": [
       "(None, None)"
      ]
     },
     "execution_count": 1,
     "metadata": {},
     "output_type": "execute_result"
    }
   ],
   "source": [
    "import ffmpeg\n",
    "\n",
    "\n",
    "# 提取音频并保存为 WAV 格式\n",
    "ffmpeg.input(r\"E:\\OneDrive - MSFT\\.master_data\\24-25ws\\SIL\\interview\\Heizmann\\Heizmann_Interview record.mkv\").output(r\"E:\\OneDrive - MSFT\\.master_data\\24-25ws\\SIL\\interview\\Heizmann\\extracted_audio2.wav\", audio_bitrate='128k').run()\n",
    "\n"
   ]
  },
  {
   "cell_type": "code",
   "execution_count": 14,
   "metadata": {},
   "outputs": [],
   "source": [
    "from pydub import AudioSegment\n",
    "import subprocess\n",
    "import os\n",
    "\n",
    "# 调用 FFmpeg 提取音频\n",
    "subprocess.call([\"ffmpeg\", \"-i\", r\"E:\\OneDrive - MSFT\\.master_data\\24-25ws\\SIL\\interview\\Heizmann\\Heizmann_Interview record.mkv\", \"temp_audio.wav\"])\n",
    "\n",
    "# 使用 pydub 处理提取的音频\n",
    "audio = AudioSegment.from_file(\"temp_audio.wav\", format=\"wav\")\n",
    "\n",
    "# 保存为 MP3 格式\n",
    "audio.export(r\"E:\\OneDrive - MSFT\\.master_data\\24-25ws\\SIL\\interview\\Heizmann\\extracted_audio1.mp3\", format=\"mp3\")\n",
    "\n",
    "os.remove(\"temp_audio.wav\")\n"
   ]
  },
  {
   "cell_type": "code",
   "execution_count": 3,
   "metadata": {},
   "outputs": [
    {
     "name": "stderr",
     "output_type": "stream",
     "text": [
      "Transcribing: 100%|███████████████████████████████████████▊| 2088.0/2094.901 [00:32<00:00, 64.30s/s]"
     ]
    },
    {
     "name": "stdout",
     "output_type": "stream",
     "text": [
      "转录结果已保存至 E:\\OneDrive - MSFT\\.master_data\\24-25ws\\SIL\\interview\\Heizmann\\transcription_result.txt\n"
     ]
    },
    {
     "name": "stderr",
     "output_type": "stream",
     "text": [
      "\n"
     ]
    }
   ],
   "source": [
    "# with prof. Heizmann\n",
    "import whisper\n",
    "import torch\n",
    "import sys\n",
    "from tqdm import tqdm  # 导入 tqdm\n",
    "\n",
    "# 检查是否有可用的 GPU\n",
    "device = \"cuda\" if torch.cuda.is_available() else None\n",
    "\n",
    "# 如果没有 GPU，抛出错误并中止\n",
    "if device is None:\n",
    "    print(\"错误：没有可用的 GPU。程序将中止。\")\n",
    "    sys.exit(1)\n",
    "\n",
    "# 加载 'large' 模型并启用 CUDA 加速\n",
    "model = whisper.load_model(\"base\").to(device)\n",
    "\n",
    "# 输入音频文件路径\n",
    "audio_path = r\"E:\\OneDrive - MSFT\\.master_data\\24-25ws\\SIL\\interview\\Heizmann\\extracted_audio1.mp3\"  # 替换为你的音频文件路径\n",
    "\n",
    "# # 执行转录\n",
    "# result = model.transcribe(audio_path, language=\"en\", progress_bar=True)  # 使用英语（\"en\"）# 启用进度条\n",
    "# 使用 whisper 加载音频时长\n",
    "audio = whisper.load_audio(audio_path)\n",
    "\n",
    "# 音频的采样率\n",
    "sample_rate = 16000  # Whisper 默认采样率\n",
    "\n",
    "# 获取音频文件的时长（秒）\n",
    "duration = len(audio) / sample_rate\n",
    "\n",
    "# 创建进度条\n",
    "with tqdm(total=duration, unit=\"s\", desc=\"Transcribing\", ncols=100) as pbar:\n",
    "    # 自定义 transcribe 函数，实时更新进度条\n",
    "    def transcribe_with_progress(model, audio_path, device, pbar):\n",
    "        # 清理 CUDA 缓存\n",
    "        torch.cuda.empty_cache()\n",
    "\n",
    "        # 执行转录\n",
    "        result = model.transcribe(audio_path, language=\"en\")  # 禁用默认的进度条\n",
    "        for segment in result[\"segments\"]:\n",
    "            # 更新进度条\n",
    "            pbar.update(segment[\"end\"] - pbar.n)  # 每个段落的时间更新进度条\n",
    "        return result\n",
    "\n",
    "    # 执行转录\n",
    "    result = transcribe_with_progress(model, audio_path, device, pbar)\n",
    "\n",
    "\n",
    "\n",
    "# 输出转录结果到 txt 文件\n",
    "output_txt_path = r\"E:\\OneDrive - MSFT\\.master_data\\24-25ws\\SIL\\interview\\Heizmann\\transcription_result.txt\"  # 替换为你想保存的输出文件路径\n",
    "with open(output_txt_path, \"w\", encoding=\"utf-8\") as f:\n",
    "    f.write(result[\"text\"])\n",
    "\n",
    "print(f\"转录结果已保存至 {output_txt_path}\")\n",
    "\n",
    "torch.cuda.empty_cache()"
   ]
  },
  {
   "cell_type": "code",
   "execution_count": 3,
   "metadata": {},
   "outputs": [],
   "source": [
    "import torch\n",
    "torch.cuda.empty_cache()\n"
   ]
  },
  {
   "cell_type": "code",
   "execution_count": 2,
   "metadata": {},
   "outputs": [],
   "source": [
    "import ffmpeg\n",
    "\n",
    "\n",
    "# 提取音频并保存为 WAV 格式\n",
    "ffmpeg.input(r\"E:\\OneDrive - MSFT\\.master_data\\24-25ws\\SIL\\interview\\tourism\\tourism.m4a\").output(r\"E:\\OneDrive - MSFT\\.master_data\\24-25ws\\SIL\\interview\\tourism\\tourism.wav\", audio_bitrate='128k').run()\n",
    "\n",
    "from pydub import AudioSegment\n",
    "import subprocess\n",
    "import os\n",
    "\n",
    "# 调用 FFmpeg 提取音频\n",
    "subprocess.call([\"ffmpeg\", \"-i\", r\"E:\\OneDrive - MSFT\\.master_data\\24-25ws\\SIL\\interview\\tourism\\tourism.m4a\", \"temp_audio.wav\"])\n",
    "\n",
    "# 使用 pydub 处理提取的音频\n",
    "audio = AudioSegment.from_file(\"temp_audio.wav\", format=\"wav\")\n",
    "\n",
    "# 保存为 MP3 格式\n",
    "audio.export(r\"E:\\OneDrive - MSFT\\.master_data\\24-25ws\\SIL\\interview\\tourism\\tourism.mp3\", format=\"mp3\")\n",
    "\n",
    "os.remove(\"temp_audio.wav\")"
   ]
  },
  {
   "cell_type": "code",
   "execution_count": 5,
   "metadata": {},
   "outputs": [
    {
     "name": "stderr",
     "output_type": "stream",
     "text": [
      "Transcribing: 100%|███████████████████████████████████████▉| 3618.0/3618.757 [01:15<00:00, 47.72s/s]"
     ]
    },
    {
     "name": "stdout",
     "output_type": "stream",
     "text": [
      "转录结果已保存至 E:\\OneDrive - MSFT\\.master_data\\24-25ws\\SIL\\interview\\tourism\\transcription_result.txt\n"
     ]
    },
    {
     "name": "stderr",
     "output_type": "stream",
     "text": [
      "\n"
     ]
    }
   ],
   "source": [
    "# with Tourism\n",
    "import whisper\n",
    "import torch\n",
    "import sys\n",
    "from tqdm import tqdm  # 导入 tqdm\n",
    "\n",
    "# 检查是否有可用的 GPU\n",
    "device = \"cuda\" if torch.cuda.is_available() else None\n",
    "\n",
    "# 如果没有 GPU，抛出错误并中止\n",
    "if device is None:\n",
    "    print(\"错误：没有可用的 GPU。程序将中止。\")\n",
    "    sys.exit(1)\n",
    "\n",
    "# 加载 'large' 模型并启用 CUDA 加速\n",
    "model = whisper.load_model(\"base\").to(device)\n",
    "\n",
    "\n",
    "###############################\n",
    "#路径设置\n",
    "###############################\n",
    "# 输入音频文件路径\n",
    "audio_path = r\"E:\\OneDrive - MSFT\\.master_data\\24-25ws\\SIL\\interview\\tourism\\tourism.mp3\"  # 替换为你的音频文件路径\n",
    "# 输出文件路径\n",
    "output_txt_path = r\"E:\\OneDrive - MSFT\\.master_data\\24-25ws\\SIL\\interview\\tourism\\transcription_result.txt\"  # 替换为你想保存的输出文件路径\n",
    "\n",
    "\n",
    "\n",
    "# # 执行转录\n",
    "# result = model.transcribe(audio_path, language=\"en\", progress_bar=True)  # 使用英语（\"en\"）# 启用进度条\n",
    "# 使用 whisper 加载音频时长\n",
    "audio = whisper.load_audio(audio_path)\n",
    "\n",
    "# 音频的采样率\n",
    "sample_rate = 16000  # Whisper 默认采样率\n",
    "\n",
    "# 获取音频文件的时长（秒）\n",
    "duration = len(audio) / sample_rate\n",
    "\n",
    "# 创建进度条\n",
    "with tqdm(total=duration, unit=\"s\", desc=\"Transcribing\", ncols=100) as pbar:\n",
    "    # 自定义 transcribe 函数，实时更新进度条\n",
    "    def transcribe_with_progress(model, audio_path, device, pbar):\n",
    "        # 清理 CUDA 缓存\n",
    "        torch.cuda.empty_cache()\n",
    "\n",
    "        # 执行转录\n",
    "        result = model.transcribe(audio_path, language=\"en\")  # 禁用默认的进度条\n",
    "        for segment in result[\"segments\"]:\n",
    "            # 更新进度条\n",
    "            pbar.update(segment[\"end\"] - pbar.n)  # 每个段落的时间更新进度条\n",
    "        return result\n",
    "\n",
    "    # 执行转录\n",
    "    result = transcribe_with_progress(model, audio_path, device, pbar)\n",
    "\n",
    "\n",
    "\n",
    "# 输出转录结果到 txt 文件\n",
    "\n",
    "with open(output_txt_path, \"w\", encoding=\"utf-8\") as f:\n",
    "    f.write(result[\"text\"])\n",
    "\n",
    "print(f\"转录结果已保存至 {output_txt_path}\")\n",
    "\n",
    "torch.cuda.empty_cache()"
   ]
  },
  {
   "cell_type": "code",
   "execution_count": 1,
   "metadata": {},
   "outputs": [],
   "source": [
    "import torch\n",
    "torch.cuda.empty_cache()"
   ]
  },
  {
   "cell_type": "code",
   "execution_count": null,
   "metadata": {},
   "outputs": [],
   "source": []
  }
 ],
 "metadata": {
  "kernelspec": {
   "display_name": "whisper_env",
   "language": "python",
   "name": "python3"
  },
  "language_info": {
   "codemirror_mode": {
    "name": "ipython",
    "version": 3
   },
   "file_extension": ".py",
   "mimetype": "text/x-python",
   "name": "python",
   "nbconvert_exporter": "python",
   "pygments_lexer": "ipython3",
   "version": "3.10.16"
  }
 },
 "nbformat": 4,
 "nbformat_minor": 2
}
